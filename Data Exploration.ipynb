{
 "cells": [
  {
   "cell_type": "code",
   "execution_count": 12,
   "id": "a1f1cbb4-c8b6-4762-8730-cfe022aef82f",
   "metadata": {},
   "outputs": [],
   "source": [
    "import pandas as pd"
   ]
  },
  {
   "cell_type": "code",
   "execution_count": 13,
   "id": "a14b0c7d-c104-446e-b80a-ef6831bd24a9",
   "metadata": {},
   "outputs": [],
   "source": [
    "restaurant_url = \"https://raw.githubusercontent.com/Papagoat/brain-assessment/main/restaurant_data.json\""
   ]
  },
  {
   "cell_type": "code",
   "execution_count": 14,
   "id": "365c9875-5882-444d-898f-1e479b6316d4",
   "metadata": {},
   "outputs": [],
   "source": [
    "restaurant_url = 'restaurant_data.json'\n",
    "restaurant_df = pd.read_json(restaurant_url)"
   ]
  },
  {
   "cell_type": "code",
   "execution_count": 15,
   "id": "95802f10-3b40-4f0c-8658-a5a90c123fba",
   "metadata": {},
   "outputs": [],
   "source": [
    "excel_file_path = 'Country-Code.xlsx'\n",
    "country_df = pd.read_excel(excel_file_path)"
   ]
  },
  {
   "cell_type": "code",
   "execution_count": null,
   "id": "a3b9e23b-d67d-4cac-90ea-58838b2ad121",
   "metadata": {},
   "outputs": [],
   "source": [
    "restaurants_data = pd.json_normalize(restaurant_df['restaurants'])\n",
    "\n",
    "total_count = []\n",
    "missing_restaurants = []\n",
    "country_matching = []\n",
    "rating_test = []\n",
    "other_ratings = []\n",
    "\n",
    "# iterate through each row in the dataframe\n",
    "for index, row in restaurants_data.iterrows():\n",
    "    count = 0\n",
    "    for restaurant_dict in row:\n",
    "        if isinstance(restaurant_dict, dict): \n",
    "            count += 1\n",
    "            country_id = restaurant_dict.get('restaurant.location.country_id', None)\n",
    "            city = restaurant_dict.get('restaurant.location.city', None)\n",
    "            restaurant_id = restaurant_dict.get('restaurant.R.res_id', None)\n",
    "            restaurant_name = restaurant_dict.get('restaurant.name', None)\n",
    "            country_id = restaurant_dict.get('restaurant.location.country_id', None)\n",
    "            city = restaurant_dict.get('restaurant.location.city', None)\n",
    "            user_rating_votes = restaurant_dict.get('restaurant.user_rating.votes', None)\n",
    "            aggregate_rating = restaurant_dict.get('restaurant.user_rating.aggregate_rating', None)\n",
    "            cuisines = restaurant_dict.get('restaurant.cuisines', None)\n",
    "            rating_text = restaurant_dict.get('restaurant.user_rating.rating_text')\n",
    "            \n",
    "            country_matching.append({\n",
    "                'Country ID': country_id,\n",
    "                'City': city,\n",
    "            })\n",
    "            \n",
    "            if rating_text == 'Poor':\n",
    "                rating_test.append({\n",
    "                    'Restaurant ID': restaurant_id,\n",
    "                    'Restaurant Name': restaurant_name,\n",
    "                    'Country ID': country_id,\n",
    "                    'City': city,\n",
    "                    'Rating Score': aggregate_rating,\n",
    "                    'Rating text': rating_text,\n",
    "                })\n",
    "\n",
    "            if rating_text not in (\"Excellent\", \"Very Good\", \"Good\", \"Average\", \"Poor\"):\n",
    "                other_ratings.append({\n",
    "                    'Restaurant Name': restaurant_name,\n",
    "                    'Country ID': country_id,\n",
    "                    'City': city,\n",
    "                    'Rating text': rating_text\n",
    "                })\n",
    "\n",
    "        else:\n",
    "            missing_restaurants.append(index)\n",
    "            break\n",
    "    total_count.append({\n",
    "    index : count})\n",
    "\n",
    "\n",
    "# this gives the total breakdown of the number of restaurants\n",
    "# there are 79 items in the root when inspecting the JSON file, of which in each item there exists\n",
    "# - results_found (int) , results_start (int) , results_shown (int), restaurants (nested)\n",
    "total_count"
   ]
  },
  {
   "cell_type": "code",
   "execution_count": null,
   "id": "75460f09-1e75-4c49-9c35-fb29f33cf513",
   "metadata": {},
   "outputs": [],
   "source": [
    "#these are the missing index with no results_shown\n",
    "missing_restaurants"
   ]
  },
  {
   "cell_type": "code",
   "execution_count": null,
   "id": "1fe59a44-7669-4fd1-8508-61bd264ea7cd",
   "metadata": {},
   "outputs": [],
   "source": [
    "#after doing a left join with the excel containing country code, we can see that there are 20 rows with the Country ID = 17 that cannot be matched\n",
    "#they also have city = \"Dummy\"\n",
    "#therefore in our final csv we excluded these rows by doing an inner join instead\n",
    "country_match_df = pd.DataFrame(country_matching)\n",
    "merged_df = pd.merge(country_match_df, country_df, left_on='Country ID', right_on='Country Code', how = 'left')\n",
    "null_country_df = merged_df[merged_df['Country'].isnull()]\n",
    "null_country_df"
   ]
  },
  {
   "cell_type": "code",
   "execution_count": null,
   "id": "ec4ac23b-9172-47ef-9d50-75409a907ec2",
   "metadata": {},
   "outputs": [],
   "source": [
    "#found the 1 poor rating to be odd and wanted to isolate it\n",
    "rating_test"
   ]
  },
  {
   "cell_type": "code",
   "execution_count": null,
   "id": "a0e0d15f-8f59-473b-aa4f-9deeeedb4c62",
   "metadata": {},
   "outputs": [],
   "source": [
    "#shows the other ratings that were not included \n",
    "other_ratings_df = pd.DataFrame(other_ratings)\n",
    "other_ratings_df"
   ]
  }
 ],
 "metadata": {
  "kernelspec": {
   "display_name": "Python 3 (ipykernel)",
   "language": "python",
   "name": "python3"
  },
  "language_info": {
   "codemirror_mode": {
    "name": "ipython",
    "version": 3
   },
   "file_extension": ".py",
   "mimetype": "text/x-python",
   "name": "python",
   "nbconvert_exporter": "python",
   "pygments_lexer": "ipython3",
   "version": "3.12.4"
  }
 },
 "nbformat": 4,
 "nbformat_minor": 5
}
